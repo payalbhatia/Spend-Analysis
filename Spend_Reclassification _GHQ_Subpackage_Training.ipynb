{
 "cells": [
  {
   "cell_type": "code",
   "execution_count": null,
   "metadata": {},
   "outputs": [],
   "source": [
    "# Import Libraries\n",
    "import warnings\n",
    "warnings.filterwarnings(\"ignore\")\n",
    "\n",
    "import os\n",
    "import re\n",
    "import numpy as np\n",
    "import pandas as pd\n",
    "import matplotlib.pyplot as plt\n",
    "import seaborn as sns\n",
    "from numpy import mean, std\n",
    "from sklearn.model_selection import KFold\n",
    "import operator\n",
    "import pickle\n",
    "from joblib import dump, load\n",
    "\n",
    "from sklearn.preprocessing import StandardScaler, MinMaxScaler\n",
    "from sklearn.metrics import classification_report, confusion_matrix, accuracy_score, f1_score,precision_score,roc_auc_score,recall_score\n",
    "from sklearn.model_selection import GridSearchCV, train_test_split, cross_val_score\n",
    "from sklearn.feature_extraction.text import CountVectorizer, TfidfVectorizer  \n",
    "from sklearn.feature_selection import SelectFromModel\n",
    "from sklearn.pipeline import Pipeline\n",
    "\n",
    "from sklearn.linear_model import LogisticRegression\n",
    "from sklearn.tree import DecisionTreeClassifier\n",
    "from sklearn.neighbors import KNeighborsClassifier\n",
    "from sklearn.discriminant_analysis import LinearDiscriminantAnalysis\n",
    "from sklearn.naive_bayes import GaussianNB\n",
    "from sklearn.svm import SVC\n",
    "from sklearn.ensemble import AdaBoostClassifier, GradientBoostingClassifier, RandomForestClassifier, ExtraTreesClassifier, VotingClassifier\n",
    "\n",
    "\n",
    "from sklearn.preprocessing import OneHotEncoder, LabelEncoder\n",
    "from sklearn.model_selection import KFold, cross_val_score\n",
    "from scipy.sparse import csr_matrix, hstack\n",
    "\n",
    "\n",
    "from sklearn.model_selection import train_test_split\n",
    "from sklearn.feature_extraction.text import CountVectorizer,TfidfTransformer\n",
    "from sklearn.metrics import f1_score\n",
    "from sklearn.model_selection import GridSearchCV\n",
    "from sklearn.svm import LinearSVC\n",
    "from sklearn.pipeline import Pipeline\n",
    "from sklearn.calibration import CalibratedClassifierCV\n",
    "from sklearn.metrics import confusion_matrix, accuracy_score\n",
    "from sklearn.utils import shuffle, resample\n",
    "\n",
    "\n",
    "pd.set_option('display.max_rows', 100)\n",
    "pd.set_option('display.max_columns', 100)\n",
    "pd.set_option('precision', 2)\n",
    "\n",
    "# import nltk\n",
    "# from nltk.corpus import stopwords\n",
    "# from nltk.stem import PorterStemmer\n",
    "# from textblob import TextBlob, Word\n",
    "# # nltk.download('stopwords')\n",
    "# # nltk.download('punkt')\n",
    "\n",
    "# stopwords = stopwords.words('english')\n",
    "# from nltk.stem import WordNetLemmatizer"
   ]
  },
  {
   "cell_type": "markdown",
   "metadata": {},
   "source": [
    "### Pre-processing functions"
   ]
  },
  {
   "cell_type": "markdown",
   "metadata": {},
   "source": [
    "### Removing punctuation "
   ]
  },
  {
   "cell_type": "code",
   "execution_count": 388,
   "metadata": {},
   "outputs": [],
   "source": [
    "def punc_reomval(x):\n",
    "    \n",
    "    punctuations = '''!()-[]{};:'\"\\,<>./?@#$%^&*_~'''\n",
    "    no_punct = \"\"\n",
    "    for char in x:\n",
    "        if char not in punctuations:\n",
    "            no_punct = no_punct + char\n",
    "    return no_punct"
   ]
  },
  {
   "cell_type": "code",
   "execution_count": 389,
   "metadata": {},
   "outputs": [],
   "source": [
    "def preprocessing(x):\n",
    "  \n",
    "    x = re.sub(r'\\W', ' ', str(x))\n",
    "    x = re.sub(r'\\s+[a-zA-Z]\\s+', ' ', x)\n",
    "    x = re.sub(r'\\^[a-zA-Z]\\s+', ' ', x) \n",
    "    x = re.sub(r'\\s+', ' ', x, flags=re.I)\n",
    "    return x"
   ]
  },
  {
   "cell_type": "markdown",
   "metadata": {},
   "source": [
    "### Adding Feature"
   ]
  },
  {
   "cell_type": "code",
   "execution_count": 390,
   "metadata": {},
   "outputs": [],
   "source": [
    "def add_feature(X, feature_to_add):\n",
    "    return hstack([X, csr_matrix(feature_to_add).T], 'csr')"
   ]
  },
  {
   "cell_type": "markdown",
   "metadata": {},
   "source": [
    "### Training the model with training dataset"
   ]
  },
  {
   "cell_type": "code",
   "execution_count": 391,
   "metadata": {},
   "outputs": [],
   "source": [
    "# Import Dataset\n",
    "data = pd.read_excel(r'G:\\Users\\C888653\\Reclassification_Algorithm\\Trainning dataset.xlsx')\n"
   ]
  },
  {
   "cell_type": "code",
   "execution_count": 392,
   "metadata": {},
   "outputs": [
    {
     "data": {
      "text/plain": [
       "(845, 11)"
      ]
     },
     "execution_count": 392,
     "metadata": {},
     "output_type": "execute_result"
    }
   ],
   "source": [
    "data.shape"
   ]
  },
  {
   "cell_type": "code",
   "execution_count": 393,
   "metadata": {},
   "outputs": [
    {
     "data": {
      "text/html": [
       "<div>\n",
       "<style scoped>\n",
       "    .dataframe tbody tr th:only-of-type {\n",
       "        vertical-align: middle;\n",
       "    }\n",
       "\n",
       "    .dataframe tbody tr th {\n",
       "        vertical-align: top;\n",
       "    }\n",
       "\n",
       "    .dataframe thead th {\n",
       "        text-align: right;\n",
       "    }\n",
       "</style>\n",
       "<table border=\"1\" class=\"dataframe\">\n",
       "  <thead>\n",
       "    <tr style=\"text-align: right;\">\n",
       "      <th></th>\n",
       "      <th>po_key</th>\n",
       "      <th>package</th>\n",
       "      <th>Reassigned package</th>\n",
       "      <th>Reassigned subpackage</th>\n",
       "      <th>subpackage</th>\n",
       "      <th>po_total_amount_ordered_in_usd_currency</th>\n",
       "      <th>purchase_order_description</th>\n",
       "      <th>material_group_description</th>\n",
       "      <th>vendor_name</th>\n",
       "      <th>gpo categories</th>\n",
       "      <th>description</th>\n",
       "    </tr>\n",
       "  </thead>\n",
       "  <tbody>\n",
       "    <tr>\n",
       "      <th>0</th>\n",
       "      <td>450484654500010</td>\n",
       "      <td>Non ZBB</td>\n",
       "      <td>Technology</td>\n",
       "      <td>Application Support</td>\n",
       "      <td>Non ZBB Accounts</td>\n",
       "      <td>54733.60</td>\n",
       "      <td>HBSIS Mobile App</td>\n",
       "      <td>APPLICATION SUPPORT SERVICES</td>\n",
       "      <td>HBSIS Soluções em TI Ltda</td>\n",
       "      <td>TECHNOLOGY</td>\n",
       "      <td>Other Technology</td>\n",
       "    </tr>\n",
       "    <tr>\n",
       "      <th>1</th>\n",
       "      <td>450476061500010</td>\n",
       "      <td>Non ZBB</td>\n",
       "      <td>Technology</td>\n",
       "      <td>Application Support</td>\n",
       "      <td>Non ZBB Accounts</td>\n",
       "      <td>27042.00</td>\n",
       "      <td>Profisee Subscription renewal</td>\n",
       "      <td>PROJECT SERVICES</td>\n",
       "      <td>Profisee Group Inc</td>\n",
       "      <td>TECHNOLOGY</td>\n",
       "      <td>Applications Saas</td>\n",
       "    </tr>\n",
       "    <tr>\n",
       "      <th>2</th>\n",
       "      <td>450480205400010</td>\n",
       "      <td>Non ZBB</td>\n",
       "      <td>Technology</td>\n",
       "      <td>Application Support</td>\n",
       "      <td>Non ZBB Accounts</td>\n",
       "      <td>49006.83</td>\n",
       "      <td>Zanders IT2 Bottomline Decommission</td>\n",
       "      <td>PROJECT SERVICES</td>\n",
       "      <td>Zanders</td>\n",
       "      <td>TECHNOLOGY</td>\n",
       "      <td>Application Licenses Maintenance</td>\n",
       "    </tr>\n",
       "  </tbody>\n",
       "</table>\n",
       "</div>"
      ],
      "text/plain": [
       "            po_key  package Reassigned package Reassigned subpackage  \\\n",
       "0  450484654500010  Non ZBB         Technology   Application Support   \n",
       "1  450476061500010  Non ZBB         Technology   Application Support   \n",
       "2  450480205400010  Non ZBB         Technology   Application Support   \n",
       "\n",
       "         subpackage  po_total_amount_ordered_in_usd_currency  \\\n",
       "0  Non ZBB Accounts                                 54733.60   \n",
       "1  Non ZBB Accounts                                 27042.00   \n",
       "2  Non ZBB Accounts                                 49006.83   \n",
       "\n",
       "            purchase_order_description    material_group_description  \\\n",
       "0                     HBSIS Mobile App  APPLICATION SUPPORT SERVICES   \n",
       "1        Profisee Subscription renewal              PROJECT SERVICES   \n",
       "2  Zanders IT2 Bottomline Decommission              PROJECT SERVICES   \n",
       "\n",
       "                 vendor_name gpo categories                       description  \n",
       "0  HBSIS Soluções em TI Ltda     TECHNOLOGY                  Other Technology  \n",
       "1         Profisee Group Inc     TECHNOLOGY                 Applications Saas  \n",
       "2                    Zanders     TECHNOLOGY  Application Licenses Maintenance  "
      ]
     },
     "execution_count": 393,
     "metadata": {},
     "output_type": "execute_result"
    }
   ],
   "source": [
    "data[:3]"
   ]
  },
  {
   "cell_type": "code",
   "execution_count": 394,
   "metadata": {},
   "outputs": [],
   "source": [
    "data[\"purchase_order_description\"]=data[\"purchase_order_description\"].apply(lambda x: punc_reomval(x))\n",
    "data[\"purchase_order_description\"]=data[\"purchase_order_description\"].apply(lambda x: preprocessing(x))"
   ]
  },
  {
   "cell_type": "code",
   "execution_count": 395,
   "metadata": {},
   "outputs": [],
   "source": [
    "training_data=data[[\"purchase_order_description\", \"Reassigned subpackage\"]]"
   ]
  },
  {
   "cell_type": "code",
   "execution_count": 396,
   "metadata": {},
   "outputs": [],
   "source": [
    "training_data[\"Reassigned subpackage\"]=training_data[\"Reassigned subpackage\"].replace(to_replace=\"Telecom\", value=\"Telecom Services\")"
   ]
  },
  {
   "cell_type": "code",
   "execution_count": 397,
   "metadata": {},
   "outputs": [],
   "source": [
    "def le(y):\n",
    "    le=LabelEncoder()\n",
    "    from collections import Counter\n",
    "    Labelling=le.fit_transform(y)\n",
    "    Labelling_inverse=le.inverse_transform(Labelling)\n",
    "    dic=dict(zip(Counter(Labelling_inverse),Counter(Labelling)))\n",
    "#     print(dic)\n",
    "            \n",
    "    return(pd.Series(Labelling), dic)"
   ]
  },
  {
   "cell_type": "code",
   "execution_count": 398,
   "metadata": {},
   "outputs": [],
   "source": [
    "yT, dic=le(training_data[\"Reassigned subpackage\"])"
   ]
  },
  {
   "cell_type": "code",
   "execution_count": 399,
   "metadata": {},
   "outputs": [],
   "source": [
    "training_data[\"le_y\"]=yT"
   ]
  },
  {
   "cell_type": "code",
   "execution_count": 400,
   "metadata": {},
   "outputs": [],
   "source": [
    "X=training_data[\"purchase_order_description\"].values\n",
    "y=training_data[\"le_y\"].values"
   ]
  },
  {
   "cell_type": "markdown",
   "metadata": {},
   "source": [
    "### reshuffling and dividing the dataset into :\n",
    "    train test validate"
   ]
  },
  {
   "cell_type": "code",
   "execution_count": 402,
   "metadata": {},
   "outputs": [],
   "source": [
    "def ttv(training_data  ,train_percent=.6, validate_percent=.2,seed=np.random.seed(0) ):\n",
    "    m=len(training_data.index)\n",
    "    perm = np.random.permutation(training_data.index)\n",
    "    train_end = int(train_percent * m)\n",
    "    validate_end = int(validate_percent * m) + train_end\n",
    "    train = training_data.iloc[perm[:train_end]]\n",
    "    validate = training_data.iloc[perm[train_end:validate_end]]\n",
    "    test = training_data.iloc[perm[validate_end:]]\n",
    "    return(train, validate, test)"
   ]
  },
  {
   "cell_type": "code",
   "execution_count": 407,
   "metadata": {},
   "outputs": [],
   "source": [
    "def tt(training_data  ,train_percent=.8, test_percent=.2,seed=np.random.seed(1) ):\n",
    "    m=len(training_data.index)\n",
    "    perm = np.random.permutation(training_data.index)\n",
    "    train_end = int(train_percent * m)\n",
    "#     validate_end = int(validate_percent * m) + train_end\n",
    "    train = training_data.iloc[perm[:train_end]]\n",
    "#     validate = training_data.iloc[perm[train_end:validate_end]]\n",
    "    test = training_data.iloc[perm[train_end:]]\n",
    "    return(train,test)"
   ]
  },
  {
   "cell_type": "code",
   "execution_count": 411,
   "metadata": {},
   "outputs": [],
   "source": [
    "train, test= tt(training_data, 0.85,0.15)"
   ]
  },
  {
   "cell_type": "code",
   "execution_count": 412,
   "metadata": {},
   "outputs": [
    {
     "data": {
      "text/plain": [
       "Application Support     362\n",
       "Workplace               134\n",
       "Datacenter               90\n",
       "Digital Security         64\n",
       "Application Licenses     33\n",
       "Telecom Services         22\n",
       "Mobile Services          13\n",
       "Name: Reassigned subpackage, dtype: int64"
      ]
     },
     "execution_count": 412,
     "metadata": {},
     "output_type": "execute_result"
    }
   ],
   "source": [
    "train[\"Reassigned subpackage\"].value_counts()"
   ]
  },
  {
   "cell_type": "code",
   "execution_count": 413,
   "metadata": {},
   "outputs": [],
   "source": [
    "# validate[\"Reassigned subpackage\"].value_counts()"
   ]
  },
  {
   "cell_type": "code",
   "execution_count": 414,
   "metadata": {},
   "outputs": [
    {
     "data": {
      "text/plain": [
       "Application Support     62\n",
       "Workplace               25\n",
       "Datacenter              21\n",
       "Digital Security        10\n",
       "Application Licenses     5\n",
       "Telecom Services         4\n",
       "Name: Reassigned subpackage, dtype: int64"
      ]
     },
     "execution_count": 414,
     "metadata": {},
     "output_type": "execute_result"
    }
   ],
   "source": [
    "test[\"Reassigned subpackage\"].value_counts()"
   ]
  },
  {
   "cell_type": "markdown",
   "metadata": {},
   "source": [
    "#### Tfidf"
   ]
  },
  {
   "cell_type": "code",
   "execution_count": 464,
   "metadata": {},
   "outputs": [],
   "source": [
    "def tfidfFit(docs, new_docs=None):\n",
    "    cv=CountVectorizer()\n",
    "    word_count_vector=cv.fit_transform(docs)\n",
    "    tfidf_transformer=TfidfTransformer(smooth_idf=True,use_idf=True)\n",
    "    tfidf_transformer.fit(word_count_vector)\n",
    "#     df_idf = pd.DataFrame(tfidf_transformer.idf_, index=cv.get_feature_names())\n",
    "#     df_idf.sort_values(by=['idf_weights'])\n",
    "    count_vector=cv.transform(new_docs)\n",
    "    tf_idf_vector=tfidf_transformer.transform(count_vector)\n",
    "    feature_names = cv.get_feature_names()\n",
    "    df = pd.DataFrame(tf_idf_vector.T.todense(), index=feature_names)\n",
    "#     df.sort_values(by=[\"tfidf\"],ascending=False)\n",
    "    vocab=cv.vocabulary_\n",
    "    return(vocab,df)\n",
    " \n",
    " \n",
    "    \n",
    "\n",
    "#     vect= TfidfVectorizer(stop_words=None, ngram_range=(1,3)).fit(X)\n",
    "#     return vect"
   ]
  },
  {
   "cell_type": "code",
   "execution_count": 417,
   "metadata": {},
   "outputs": [],
   "source": [
    "def vectors(X,X_train, X_test):\n",
    "    vect= TfidfVectorizer(stop_words=None, ngram_range=(1,3)).fit(X)\n",
    "    print('Vocabulary len:', len(vect.get_feature_names()))\n",
    "    print('Longest word:', max(vect.vocabulary_, key=len))\n",
    "    vocab=vect.vocabulary_\n",
    "    features=vect.get_feature_names()\n",
    "\n",
    "    X_train_vectorized = vect.transform(X_train)\n",
    "    X_train_vectorized = add_feature(X_train_vectorized, pd.Series(X_train).str.len())\n",
    "\n",
    "    X_test_vectorized = vect.transform(X_test)\n",
    "    X_test_vectorized = add_feature(X_test_vectorized, pd.Series(X_test).str.len())\n",
    "\n",
    "\n",
    "    return X_train_vectorized , X_test_vectorized,vocab, features, vect\n",
    "\n"
   ]
  },
  {
   "cell_type": "code",
   "execution_count": 431,
   "metadata": {},
   "outputs": [],
   "source": [
    "X_train=train[\"purchase_order_description\"].values\n",
    "# X_valid=validate[\"purchase_order_description\"].values\n",
    "X_test=test[\"purchase_order_description\"].values\n",
    "y_train=train[\"Reassigned subpackage\"]\n",
    "# y_valid=validate[\"Reassigned subpackage\"]\n",
    "y_test=test[\"Reassigned subpackage\"]"
   ]
  },
  {
   "cell_type": "code",
   "execution_count": 432,
   "metadata": {},
   "outputs": [
    {
     "name": "stdout",
     "output_type": "stream",
     "text": [
      "Vocabulary len: 3150\n",
      "Longest word: crq00chg0412379sap marketplace cleanup\n"
     ]
    }
   ],
   "source": [
    "X_train_vectorized , X_test_vectorized, vocab, features, vector= vectors(X, X_train, X_test)\n"
   ]
  },
  {
   "cell_type": "code",
   "execution_count": 433,
   "metadata": {},
   "outputs": [],
   "source": [
    "features.append(\"doc_len\")"
   ]
  },
  {
   "cell_type": "code",
   "execution_count": 434,
   "metadata": {},
   "outputs": [],
   "source": [
    "# features\n",
    "# d=pd.DataFrame(X_train_vectorized.todense())"
   ]
  },
  {
   "cell_type": "code",
   "execution_count": 435,
   "metadata": {},
   "outputs": [],
   "source": [
    "vocab_dict={v:k  for k, v in vocab.items()}"
   ]
  },
  {
   "cell_type": "code",
   "execution_count": 436,
   "metadata": {},
   "outputs": [],
   "source": [
    "vocab_dict[3150]=\"Doc_len\""
   ]
  },
  {
   "cell_type": "code",
   "execution_count": 437,
   "metadata": {},
   "outputs": [
    {
     "data": {
      "text/plain": [
       "{3148: 'zx office', 3149: 'zx office move', 3150: 'Doc_len'}"
      ]
     },
     "execution_count": 437,
     "metadata": {},
     "output_type": "execute_result"
    }
   ],
   "source": [
    "dict(list(vocab_dict.items())[-3:])"
   ]
  },
  {
   "cell_type": "code",
   "execution_count": 438,
   "metadata": {},
   "outputs": [],
   "source": [
    "X_train_df=pd.DataFrame(X_train_vectorized.todense(), index=X_train, columns=list(vocab_dict.values()))\n",
    "# X_valid_df=pd.DataFrame(X_valid_vectorized.todense(), index=X_valid, columns=list(vocab_dict.values()))\n",
    "X_test_df=pd.DataFrame(X_test_vectorized.todense(), index=X_test, columns=list(vocab_dict.values()))"
   ]
  },
  {
   "cell_type": "markdown",
   "metadata": {},
   "source": [
    "#### modelling"
   ]
  },
  {
   "cell_type": "code",
   "execution_count": 439,
   "metadata": {},
   "outputs": [],
   "source": [
    "def modelling(model, X_train_vectorized ,y_train, X_test_vectorized, y_test, vect):\n",
    "    \n",
    "    model.fit(X_train_vectorized, y_train)\n",
    "\n",
    "    y_pred = model.predict(X_test_vectorized)\n",
    "    print('Accuracy: %.2f%%' % (accuracy_score(y_test, y_pred) * 100))\n",
    "\n",
    "\n",
    "    index = np.array(vect.get_feature_names() + ['length_of_doc'])# adding name of column (last)\n",
    "    try:\n",
    "        values  = model.coef_[0]\n",
    "        features_series = pd.Series(data=values,index=index)\n",
    "        print(features_series.head(3))\n",
    "\n",
    "        print('Smallest Coefs:\\n{}\\n'.format(features_series.nsmallest(10).index.values.tolist()))\n",
    "        print('Largest Coefs: \\n{}'.format(features_series.nlargest(10).index.values.tolist()))\n",
    "    except: \n",
    "        print(\"model has no coefficients\")\n",
    "\n",
    "    return y_pred\n"
   ]
  },
  {
   "cell_type": "code",
   "execution_count": 440,
   "metadata": {},
   "outputs": [],
   "source": [
    "# from sklearn.ensemble import RandomForestClassifier\n",
    "# model=RandomForestClassifier(random_state=80)\n",
    "# y_pred=modelling(model, X_train_df ,y_train, X_valid_df, y_valid, vector)\n"
   ]
  },
  {
   "cell_type": "code",
   "execution_count": 441,
   "metadata": {},
   "outputs": [],
   "source": [
    "# from sklearn.ensemble import RandomForestClassifier\n",
    "# model2=RandomForestClassifier(random_state=82)\n",
    "# y_pred2=modelling(model2,  X_train_vectorized ,y_train, X_valid_vectorized, y_valid, vector)"
   ]
  },
  {
   "cell_type": "code",
   "execution_count": 442,
   "metadata": {},
   "outputs": [],
   "source": [
    "# from sklearn.tree import ExtraTreeClassifier\n",
    "# model3=ExtraTreeClassifier(random_state=84)\n",
    "# y_pred3=modelling(model3,  X_train_vectorized ,y_train, X_valid_vectorized, y_valid, vector)"
   ]
  },
  {
   "cell_type": "code",
   "execution_count": 443,
   "metadata": {},
   "outputs": [],
   "source": [
    "# from sklearn.tree import ExtraTreeClassifier\n",
    "# model4=ExtraTreeClassifier(random_state=86)\n",
    "# y_pred4=modelling(model4,  X_train_df ,y_train, X_valid_df, y_valid, vector)"
   ]
  },
  {
   "cell_type": "markdown",
   "metadata": {},
   "source": [
    "#### Cross Validation"
   ]
  },
  {
   "cell_type": "code",
   "execution_count": 444,
   "metadata": {},
   "outputs": [],
   "source": [
    "def cross_val(model, X_train_vectorized ,y_train):\n",
    "    all_accuracies = cross_val_score(estimator=model, X=X_train_vectorized , y=y_train, cv=5)\n",
    "    print(\"mean of accuracies : \", all_accuracies.mean())\n",
    "    print(\"std of accuracies : \" , all_accuracies.std())\n",
    "    return all_accuracies"
   ]
  },
  {
   "cell_type": "code",
   "execution_count": 445,
   "metadata": {},
   "outputs": [],
   "source": [
    "# cross_val(model, X_train_df,y_train)"
   ]
  },
  {
   "cell_type": "code",
   "execution_count": 446,
   "metadata": {},
   "outputs": [],
   "source": [
    "# cross_val(model2, X_train_vectorized,y_train)"
   ]
  },
  {
   "cell_type": "code",
   "execution_count": 447,
   "metadata": {},
   "outputs": [],
   "source": [
    "# cross_val(model3, X_train_df,y_train)"
   ]
  },
  {
   "cell_type": "code",
   "execution_count": 448,
   "metadata": {},
   "outputs": [],
   "source": [
    "# cross_val(model4, X_train_vectorized,y_train)"
   ]
  },
  {
   "cell_type": "markdown",
   "metadata": {},
   "source": [
    "#### Grid Search Cross Validatio"
   ]
  },
  {
   "cell_type": "code",
   "execution_count": 449,
   "metadata": {},
   "outputs": [],
   "source": [
    "# grid_param = {\n",
    "#     'n_estimators': [100, 300, 500, 800, 1000],\n",
    "#     'criterion': ['gini', 'entropy'],\n",
    "#     'bootstrap': [True, False],\n",
    "#     'max_features': [50, 100, 500, 700, 1000],\n",
    "#      }\n"
   ]
  },
  {
   "cell_type": "code",
   "execution_count": 450,
   "metadata": {},
   "outputs": [],
   "source": [
    "# gd_sr = GridSearchCV(estimator=model,\n",
    "#                      param_grid=grid_param,\n",
    "#                      scoring='accuracy',\n",
    "#                      cv=5,\n",
    "#                      n_jobs=-1)"
   ]
  },
  {
   "cell_type": "code",
   "execution_count": 451,
   "metadata": {},
   "outputs": [],
   "source": [
    "# gd_sr.fit(X_train_vectorized,y_train)"
   ]
  },
  {
   "cell_type": "code",
   "execution_count": 452,
   "metadata": {},
   "outputs": [],
   "source": [
    "# best_parameters = gd_sr.best_params_\n",
    "# print(best_parameters)\n",
    "# best_result = gd_sr.best_score_\n",
    "# print(best_result)\n"
   ]
  },
  {
   "cell_type": "code",
   "execution_count": 453,
   "metadata": {},
   "outputs": [],
   "source": [
    "# param_grid = {\n",
    "#     'clf__n_estimators': [100, 500],\n",
    "#     'clf__criterion': ['gini', 'entropy'],\n",
    "#     'clf__bootstrap': [True, False]\n",
    "   \n",
    "#      }\n"
   ]
  },
  {
   "cell_type": "code",
   "execution_count": 454,
   "metadata": {},
   "outputs": [],
   "source": [
    "# grid = GridSearchCV(pipeline, cv=6, param_grid=param_grid)\n",
    "# grid.fit(X_train,y_train)"
   ]
  },
  {
   "cell_type": "code",
   "execution_count": 455,
   "metadata": {},
   "outputs": [],
   "source": [
    "# print(\"Best: %f using %s\" % (grid.best_score_, \n",
    "#     grid.best_params_))\n",
    "# means = grid.cv_results_['mean_test_score']\n",
    "# stds = grid.cv_results_['std_test_score']\n",
    "# params = grid.cv_results_['params']\n",
    "# for mean, stdev, param in zip(means, stds, params):\n",
    "#     print(\"%f (%f) with: %r\" % (mean, stdev, param))"
   ]
  },
  {
   "cell_type": "code",
   "execution_count": 456,
   "metadata": {},
   "outputs": [],
   "source": [
    "model=RandomForestClassifier(random_state=80, criterion=\"entropy\",n_estimators=1000)"
   ]
  },
  {
   "cell_type": "code",
   "execution_count": 457,
   "metadata": {},
   "outputs": [
    {
     "data": {
      "text/plain": [
       "RandomForestClassifier(bootstrap=True, class_weight=None, criterion='entropy',\n",
       "            max_depth=None, max_features='auto', max_leaf_nodes=None,\n",
       "            min_impurity_split=1e-07, min_samples_leaf=1,\n",
       "            min_samples_split=2, min_weight_fraction_leaf=0.0,\n",
       "            n_estimators=1000, n_jobs=1, oob_score=False, random_state=80,\n",
       "            verbose=0, warm_start=False)"
      ]
     },
     "execution_count": 457,
     "metadata": {},
     "output_type": "execute_result"
    }
   ],
   "source": [
    "model"
   ]
  },
  {
   "cell_type": "code",
   "execution_count": 458,
   "metadata": {},
   "outputs": [],
   "source": [
    "M=model.fit(X_train_df, y_train)"
   ]
  },
  {
   "cell_type": "code",
   "execution_count": 459,
   "metadata": {},
   "outputs": [
    {
     "data": {
      "text/plain": [
       "DecisionTreeClassifier(class_weight=None, criterion='gini', max_depth=None,\n",
       "            max_features=None, max_leaf_nodes=None,\n",
       "            min_impurity_split=1e-07, min_samples_leaf=1,\n",
       "            min_samples_split=2, min_weight_fraction_leaf=0.0,\n",
       "            presort=False, random_state=None, splitter='best')"
      ]
     },
     "execution_count": 459,
     "metadata": {},
     "output_type": "execute_result"
    }
   ],
   "source": [
    "M.base_estimator_"
   ]
  },
  {
   "cell_type": "code",
   "execution_count": 460,
   "metadata": {},
   "outputs": [
    {
     "data": {
      "text/plain": [
       "3151"
      ]
     },
     "execution_count": 460,
     "metadata": {},
     "output_type": "execute_result"
    }
   ],
   "source": [
    "len(M.feature_importances_)"
   ]
  },
  {
   "cell_type": "code",
   "execution_count": 461,
   "metadata": {},
   "outputs": [],
   "source": [
    "important_features = pd.Series(data=M.feature_importances_,index=X_train_df.columns)\n",
    "important_features.sort_values(ascending=False,inplace=True)"
   ]
  },
  {
   "cell_type": "code",
   "execution_count": 462,
   "metadata": {},
   "outputs": [
    {
     "data": {
      "text/plain": [
       "<matplotlib.axes._subplots.AxesSubplot at 0x40b65a8b00>"
      ]
     },
     "execution_count": 462,
     "metadata": {},
     "output_type": "execute_result"
    },
    {
     "data": {
      "image/png": "[encoded data removed]",
      "text/plain": [
       "<matplotlib.figure.Figure at 0x40b0a00cc0>"
      ]
     },
     "metadata": {},
     "output_type": "display_data"
    }
   ],
   "source": [
    "%matplotlib inline\n",
    "plt.figure(figsize=(15, 5))\n",
    "important_features[:80].plot(kind=\"bar\", rot=90)"
   ]
  },
  {
   "cell_type": "code",
   "execution_count": 463,
   "metadata": {},
   "outputs": [
    {
     "name": "stdout",
     "output_type": "stream",
     "text": [
      "Accuracy: 71.65%\n",
      "model has no coefficients\n"
     ]
    }
   ],
   "source": [
    "y_pred=modelling(model, X_train_df ,y_train, X_test_df, y_test,vector)"
   ]
  },
  {
   "cell_type": "code",
   "execution_count": 474,
   "metadata": {},
   "outputs": [
    {
     "data": {
      "text/plain": [
       "['G:\\\\Users\\\\C888653\\\\Reclassification_Algorithm\\\\vocab.joblib']"
      ]
     },
     "execution_count": 474,
     "metadata": {},
     "output_type": "execute_result"
    }
   ],
   "source": [
    "import joblib\n",
    "#Save vectorizer.vocabulary_\n",
    "joblib.dump(vector,r\"G:\\Reclassification_Algorithm\\feature.joblib\")\n",
    "joblib.dump(model,r\"G:\\Reclassification_Algorithm\\model.joblib\")\n",
    "joblib.dump(vocab_dict,r\"G:\\Reclassification_Algorithm\\vocab.joblib\")\n",
    "# joblib.dump(vocab,open(r\"G:\\Reclassification_Algorithm\\model.joblib\",\"wb\"))\n"
   ]
  },
  {
   "cell_type": "markdown",
   "metadata": {},
   "source": [
    "Names of files: \n",
    "\n",
    "                feature.joblib--tfidf features\n",
    "                model.joblib\n",
    "                vocab_dict--dictionary \n",
    "    "
   ]
  }
 ],
 "metadata": {
  "kernelspec": {
   "display_name": "Python 3",
   "language": "python",
   "name": "python3"
  },
  "language_info": {
   "codemirror_mode": {
    "name": "ipython",
    "version": 3
   },
   "file_extension": ".py",
   "mimetype": "text/x-python",
   "name": "python",
   "nbconvert_exporter": "python",
   "pygments_lexer": "ipython3",
   "version": "3.5.2"
  }
 },
 "nbformat": 4,
 "nbformat_minor": 2
}
