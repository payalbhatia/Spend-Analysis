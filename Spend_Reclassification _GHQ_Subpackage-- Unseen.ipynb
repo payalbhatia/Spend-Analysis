{
 "cells": [
  {
   "cell_type": "code",
   "execution_count": 11,
   "metadata": {},
   "outputs": [],
   "source": [
    "import warnings\n",
    "warnings.filterwarnings(\"ignore\")\n",
    "\n",
    "import os\n",
    "import re\n",
    "import numpy as np\n",
    "import pandas as pd\n",
    "import matplotlib.pyplot as plt\n",
    "import seaborn as sns\n",
    "from numpy import mean, std\n",
    "from sklearn.model_selection import KFold\n",
    "import operator\n",
    "import pickle\n",
    "from joblib import dump, load\n",
    "\n",
    "from sklearn.preprocessing import StandardScaler, MinMaxScaler\n",
    "from sklearn.metrics import classification_report, confusion_matrix, accuracy_score, f1_score,precision_score,roc_auc_score,recall_score\n",
    "from sklearn.model_selection import GridSearchCV, train_test_split, cross_val_score\n",
    "from sklearn.feature_extraction.text import CountVectorizer, TfidfVectorizer  \n",
    "from sklearn.feature_selection import SelectFromModel\n",
    "from sklearn.pipeline import Pipeline\n",
    "\n",
    "from sklearn.linear_model import LogisticRegression\n",
    "from sklearn.tree import DecisionTreeClassifier\n",
    "from sklearn.neighbors import KNeighborsClassifier\n",
    "from sklearn.discriminant_analysis import LinearDiscriminantAnalysis\n",
    "from sklearn.naive_bayes import GaussianNB\n",
    "from sklearn.svm import SVC\n",
    "from sklearn.ensemble import AdaBoostClassifier, GradientBoostingClassifier, RandomForestClassifier, ExtraTreesClassifier, VotingClassifier\n",
    "\n",
    "\n",
    "# # import nltk\n",
    "# # from nltk.corpus import stopwords\n",
    "# # from nltk.stem import PorterStemmer\n",
    "# # from textblob import TextBlob, Word\n",
    "# nltk.download('stopwords')\n",
    "# nltk.download('punkt')\n",
    "\n",
    "# stopwords = stopwords.words('english')\n",
    "# # from nltk.stem import WordNetLemmatizer\n",
    "\n",
    "from db_wrapper import db"
   ]
  },
  {
   "cell_type": "code",
   "execution_count": 273,
   "metadata": {},
   "outputs": [
    {
     "data": {
      "text/plain": [
       "'c:\\\\program files\\\\python35\\\\python.exe'"
      ]
     },
     "execution_count": 273,
     "metadata": {},
     "output_type": "execute_result"
    }
   ],
   "source": [
    "import sys\n",
    "sys.executable"
   ]
  },
  {
   "cell_type": "code",
   "execution_count": 346,
   "metadata": {},
   "outputs": [],
   "source": [
    "tfidf_vect = load(r\"G:\\Reclassification_Algorithm\\feature.joblib\") # Loading model joblib\n",
    "model=load(r\"G:\\Reclassification_Algorithm\\model.joblib\") # Loading tfidf_vectorizer joblib\n",
    "vocab_dict=load(r\"G:\\Reclassification_Algorithm\\vocab.joblib\")"
   ]
  },
 
   "outputs": [],
   "source": [
    "def add0(x):\n",
    "    try:\n",
    "        if(len(x)!=10):\n",
    "            padding_size=(10-len(x))\n",
    "            x=x.rjust(10, \"0\")\n",
    "            \n",
    "        else:\n",
    "            x\n",
    "    except:\n",
    "        print(\"error in \",x)\n",
    "        \n",
    "    return(float(x))\n",
    "        "
   ]
  },
  {
   "cell_type": "code",
   "execution_count": 284,
   "metadata": {},
   "outputs": [],
   "source": [
    "test_data[\"vendor id\"]=test_data[\"vendor id\"].astype(str)\n",
    "test_data[\"vendor id\"]=test_data[\"vendor id\"].apply(lambda x: add0(x))"
   ]
  },
  {
   "cell_type": "code",
   "execution_count": 285,
   "metadata": {},
   "outputs": [],
   "source": [
    "test_data[\"vendor id\"]=test_data[\"vendor id\"].round(decimals=0).astype(object)"
   ]
  },
  {
   "cell_type": "code",
   "execution_count": 286,
   "metadata": {},
   "outputs": [],
   "source": [
    "vendor_data2[\"vendor id\"]=vendor_data2[\"vendor id\"].astype(str)\n",
    "vendor_data2[\"vendor id\"]=vendor_data2[\"vendor id\"].apply(lambda x: add0(x))\n",
    "vendor_data2[\"vendor id\"]=vendor_data2[\"vendor id\"].round(decimals=0).astype(object)"
   ]
  },
  {
   "cell_type": "code",
   "execution_count": 287,
   "metadata": {},
   "outputs": [
    {
     "data": {
      "text/plain": [
       "0    381111\n",
       "1       276\n",
       "2       525\n",
       "Name: vendor id, dtype: object"
      ]
     },
     "execution_count": 287,
     "metadata": {},
     "output_type": "execute_result"
    }
   ],
   "source": [
    "test_data[\"vendor id\"][:3]\n"
   ]
  },
  {
   "cell_type": "code",
   "execution_count": 288,
   "metadata": {},
   "outputs": [
    {
     "data": {
      "text/plain": [
       "0    346426\n",
       "1    383062\n",
       "2    382548\n",
       "Name: vendor id, dtype: object"
      ]
     },
     "execution_count": 288,
     "metadata": {},
     "output_type": "execute_result"
    }
   ],
   "source": [
    "vendor_data2[\"vendor id\"][:3]"
   ]
  },
  {
   "cell_type": "code",
   "execution_count": null,
   "metadata": {},
   "outputs": [],
   "source": [
    "def punc_reomval(x):\n",
    "    \n",
    "    punctuations = '''!()-[]{};:'\"\\,<>./?@#$%^&*_~'''\n",
    "    no_punct = \"\"\n",
    "    for char in x:\n",
    "        if char not in punctuations:\n",
    "            no_punct = no_punct + char\n",
    "    return no_punct"
   ]
  },
  {
   "cell_type": "code",
   "execution_count": null,
   "metadata": {},
   "outputs": [],
   "source": [
    "def preprocessing(x):\n",
    "  \n",
    "    x = re.sub(r'\\W', ' ', str(x))\n",
    "    x = re.sub(r'\\s+[a-zA-Z]\\s+', ' ', x)\n",
    "    x = re.sub(r'\\^[a-zA-Z]\\s+', ' ', x) \n",
    "    x = re.sub(r'\\s+', ' ', x, flags=re.I)\n",
    "    return x"
   ]
  },
  {
   "cell_type": "code",
   "execution_count": 488,
   "metadata": {},
   "outputs": [],
   "source": [
    "def appostrophe_replace(x):\n",
    "    return(x.replace(\"'\", \" \").replace('\"', \" \"))"
   ]
  },
  {
   "cell_type": "code",
   "execution_count": 489,
   "metadata": {},
   "outputs": [],
   "source": [
    "test_data[\"purchase_order_description\"]=test_data[\"purchase_order_description\"].apply(lambda x: punc_reomval(x))\n",
    "test_data[\"purchase_order_description\"]=test_data[\"purchase_order_description\"].apply(lambda x: preprocessing(x))\n",
    "test_data[\"purchase_order_description\"]=test_data[\"purchase_order_description\"].apply(lambda x: appostrophe_replace(x))"
   ]
  },
  {
   "cell_type": "code",
   "execution_count": 491,
   "metadata": {},
   "outputs": [],
   "source": [
    "# test_data[test_data[\"purchase_order_description\"].str.contains(\"MXP\")]"
   ]
  },
  {
   "cell_type": "code",
   "execution_count": 492,
   "metadata": {},
   "outputs": [],
   "source": [
    "import ven_map\n",
    "from ven_map import O2O, result"
   ]
  },
  {
   "cell_type": "code",
   "execution_count": 493,
   "metadata": {},
   "outputs": [],
   "source": [
    "# data=pd.read_excel(r'G:\\Reclassification_Algorithm\\ghq_data_with Vendor id.xlsx')"
   ]
  },
  {
   "cell_type": "code",
   "execution_count": 494,
   "metadata": {},
   "outputs": [],
   "source": [
    "# test_data[test_data[\"package\"]==\"Technology\"][\"vendor id\"].unique()"
   ]
  },
  {
   "cell_type": "code",
   "execution_count": 495,
   "metadata": {},
   "outputs": [],
   "source": [
    "# vendor_data2[\"vendor id\"].unique()"
   ]
  },
  {
   "cell_type": "code",
   "execution_count": 496,
   "metadata": {},
   "outputs": [],
   "source": [
    "# tech=test_data[test_data.package==\"Technology\"]"
   ]
  },
  {
   "cell_type": "code",
   "execution_count": 497,
   "metadata": {},
   "outputs": [],
   "source": [
    "# tech=test_data[test_data.package==\"Technology\"]"
   ]
  },
  {
   "cell_type": "code",
   "execution_count": 498,
   "metadata": {},
   "outputs": [],
   "source": [
    "# tech[\"vendor id\"]=tech[\"vendor id\"].astype(str)\n",
    "# tech[\"vendor id\"]=tech[\"vendor id\"].apply(lambda x: add0(x))\n",
    "# tech[\"vendor id\"]=tech[\"vendor id\"].round(decimals=0).astype(object)"
   ]
  },
  {
   "cell_type": "code",
   "execution_count": 499,
   "metadata": {},
   "outputs": [],
   "source": [
    "# tech[\"vendor id\"].unique()"
   ]
  },
  {
   "cell_type": "code",
   "execution_count": 500,
   "metadata": {},
   "outputs": [],
   "source": [
    "oTo_o=O2O(test_data)"
   ]
  },
  {
   "cell_type": "code",
   "execution_count": 501,
   "metadata": {},
   "outputs": [
    {
     "data": {
      "text/plain": [
       "vendor id\n",
       "1.0    1\n",
       "Name: package, dtype: int64"
      ]
     },
     "execution_count": 501,
     "metadata": {},
     "output_type": "execute_result"
    }
   ],
   "source": [
    "oTo_o.count_pack_venid()[:3]"
   ]
  },
  {
   "cell_type": "code",
   "execution_count": 502,
   "metadata": {},
   "outputs": [
    {
     "data": {
      "text/plain": [
       "vendor id\n",
       "1.0    1\n",
       "Name: subpackage, dtype: int64"
      ]
     },
     "execution_count": 502,
     "metadata": {},
     "output_type": "execute_result"
    }
   ],
   "source": [
    "oTo_o.count_subp_venid()[:3]"
   ]
  },
  {
   "cell_type": "code",
   "execution_count": 503,
   "metadata": {},
   "outputs": [
    {
     "data": {
      "text/plain": [
       "array(['Sales', None, 'Supply Chain Overhead',\n",
       "       'Variable compensation'], dtype=object)"
      ]
     },
     "execution_count": 503,
     "metadata": {},
     "output_type": "execute_result"
    }
   ],
   "source": [
    "oTo_o.uniq_p"
   ]
  },
  {
   "cell_type": "code",
   "execution_count": 504,
   "metadata": {},
   "outputs": [
    {
     "data": {
      "text/plain": [
       "array(['Commercial Agreement - Distributors', None, 'Other',\n",  
       "       'Industry Associations', 'Training Travel', 'PPE & Uniforms'],\n",
       "      dtype=object)"
      ]
     },
     "execution_count": 504,
     "metadata": {},
     "output_type": "execute_result"
    }
   ],
   "source": [
    "oTo_o.uniq_subp"
   ]
  },
  {
   "cell_type": "code",
   "execution_count": 505,
   "metadata": {},
   "outputs": [
    {
     "data": {
      "text/plain": [
       "1901"
      ]
     },
     "execution_count": 505,
     "metadata": {},
     "output_type": "execute_result"
    }
   ],
   "source": [
    "len(oTo_o.uniq_venid)"
   ]
  },
  {
   "cell_type": "code",
   "execution_count": 506,
   "metadata": {},
   "outputs": [],
   "source": [
    "r=result(vendor_data2,tech)\n",
    "df=r.result_O2O() "
   ]
  },
  {
   "cell_type": "code",
   "execution_count": 507,
   "metadata": {},
   "outputs": [
    {
     "data": {
      "text/plain": [
       "Unassigned    721\n",
       "Technology    301\n",
       "OUT OF ZBB     13\n",
       "Name: reassign_pack, dtype: int64"
      ]
     },
     "execution_count": 507,
     "metadata": {},
     "output_type": "execute_result"
    }
   ],
   "source": [
    "df[\"reassign_pack\"].value_counts()"
   ]
  },
  {
   "cell_type": "code",
   "execution_count": 508,
   "metadata": {},
   "outputs": [
    {
     "data": {
      "text/plain": [
       "Unassigned              837\n",
       "Applications Support     63\n",
       "Application Licenses     35\n"
       "Name: reassign_subpack, dtype: int64"
      ]
     },
     "execution_count": 508,
     "metadata": {},
     "output_type": "execute_result"
    }
   ],
   "source": [
    "df[\"reassign_subpack\"].value_counts()"
   ]
  },
  {
   "cell_type": "code",
   "execution_count": 509,
   "metadata": {},
   "outputs": [
    {
     "data": {
      "text/plain": [
       "(1035, 18)"
      ]
     },
     "execution_count": 509,
     "metadata": {},
     "output_type": "execute_result"
    }
   ],
   "source": [
    "df.shape"
   ]
  },
  {
   "cell_type": "code",
   "execution_count": 510,
   "metadata": {},
   "outputs": [],
   "source": [
    "o2o=df[~((df[\"reassign_pack\"]==\"Unassigned\" ) | (df[\"reassign_subpack\"]==\"Unassigned\" ))]"
   ]
  },
  {
   "cell_type": "code",
   "execution_count": 511,
   "metadata": {},
   "outputs": [
    {
     "data": {
      "text/plain": [
       "(185, 18)"
      ]
     },
     "execution_count": 511,
     "metadata": {},
     "output_type": "execute_result"
    }
   ],
   "source": [
    "o2o.shape"
   ]
  },
  {
   "cell_type": "code",
   "execution_count": 512,
   "metadata": {},
   "outputs": [
    {
     "data": {
      "text/plain": [
       "Technology    185\n",
       "Name: reassign_pack, dtype: int64"
      ]
     },
     "execution_count": 512,
     "metadata": {},
     "output_type": "execute_result"
    }
   ],
   "source": [
    "o2o[\"reassign_pack\"].value_counts()"
   ]
  },
  {
   "cell_type": "code",
   "execution_count": 513,
   "metadata": {},
   "outputs": [],
   "source": [
    "o2m=df[((df[\"reassign_subpack\"]==\"Unassigned\" ) | (df[\"reassign_pack\"]==\"Unassigned\" ) )]"
   ]
  },
  {
   "cell_type": "code",
   "execution_count": 514,
   "metadata": {},
   "outputs": [
    {
     "data": {
      "text/plain": [
       "1035"
      ]
     },
     "execution_count": 514,
     "metadata": {},
     "output_type": "execute_result"
    }
   ],
   "source": [
    "o2m.shape[0]+o2o.shape[0]"
   ]
  },
  {
   "cell_type": "code",
   "execution_count": 515,
   "metadata": {},
   "outputs": [],
   "source": [
    "ip_data = pd.read_excel(r'G:\\Reclassification_Algorithm\\Trainning dataset.xlsx')"
   ]
  },
  {
   "cell_type": "code",
   "execution_count": 516,
   "metadata": {},
   "outputs": [],
   "source": [
    "testData=o2m[~o2m[\"po_key\"].isin(ip_data[\"po_key\"])]"
   ]
  },
  {
   "cell_type": "code",
   "execution_count": 517,
   "metadata": {},
   "outputs": [
    {
     "data": {
      "text/plain": [
       "(850, 18)"
      ]
     },
     "execution_count": 517,
     "metadata": {},
     "output_type": "execute_result"
    }
   ],
   "source": [
    "testData.shape"
   ]
  },
  {
   "cell_type": "code",
   "execution_count": 518,
   "metadata": {},
   "outputs": [
    {
     "data": {
      "text/plain": [
       "company_code                                0\n",
       "description                                29\n",
       "gl_code                                     0\n",
       "gl_code_desc                                0\n",
       "gpo categories                             29\n",
       "vendor id                                   0\n",
       "material_group_description                  0\n",
       "package                                     0\n",
       "po_key                                      0\n",
       "po_total_amount_ordered_in_usd_currency     2\n",
       "purchase_order_description                  0\n",
       "sakto                                       0\n",
       "subpackage                                  0\n",
       "vendor_name                                 0\n",
       "p_Match                                     0\n",
       "sub_p_Match                                 0\n",
       "reassign_pack                               0\n",
       "reassign_subpack                            0\n",
       "dtype: int64"
      ]
     },
     "execution_count": 518,
     "metadata": {},
     "output_type": "execute_result"
    }
   ],
   "source": [
    "testData.isna().sum()"
   ]
  },
  {
   "cell_type": "code",
   "execution_count": 519,
   "metadata": {},
   "outputs": [],
   "source": [
    "# string=\"MXP Aug'19\"\n",
    "# string.replace(\"'\", ' ')"
   ]
  },
  {
   "cell_type": "code",
   "execution_count": 520,
   "metadata": {},
   "outputs": [],
   "source": [
    "from scipy.sparse import csr_matrix, hstack\n",
    "def add_feature(X, feature_to_add):\n",
    "    return hstack([X, csr_matrix(feature_to_add).T], 'csr')"
   ]
  },
  {
   "cell_type": "code",
   "execution_count": 521,
   "metadata": {},
   "outputs": [],
   "source": [
    "# testData[\"purchase_order_description\"]=testData[\"purchase_order_description\"].apply(lambda x: punc_reomval(x))\n",
    "# testData[\"purchase_order_description\"]=testData[\"purchase_order_description\"].apply(lambda x: preprocessing(x))\n",
    "# testData[\"purchase_order_description\"]=testData[\"purchase_order_description\"].apply(lambda x: appostrophe_replace(x))"
   ]
  },
  {
   "cell_type": "code",
   "execution_count": 522,
   "metadata": {},
   "outputs": [],
   "source": [
    "un_tf_idf_vect=tfidf_vect.transform(testData[\"purchase_order_description\"].values)"
   ]
  },
  {
   "cell_type": "code",
   "execution_count": 523,
   "metadata": {},
   "outputs": [
    {
     "data": {
      "text/plain": [
       "<850x3150 sparse matrix of type '<class 'numpy.float64'>'\n",
       "\twith 4303 stored elements in Compressed Sparse Row format>"
      ]
     },
     "execution_count": 523,
     "metadata": {},
     "output_type": "execute_result"
    }
   ],
   "source": [
    "un_tf_idf_vect"
   ]
  },
  {
   "cell_type": "code",
   "execution_count": 524,
   "metadata": {},
   "outputs": [],
   "source": [
    "test_vectorized = add_feature(un_tf_idf_vect, pd.Series(testData[\"purchase_order_description\"].values).str.len())"
   ]
  },
  {
   "cell_type": "code",
   "execution_count": 525,
   "metadata": {},
   "outputs": [
    {
     "data": {
      "text/plain": [
       "<850x3151 sparse matrix of type '<class 'numpy.float64'>'\n",
       "\twith 5153 stored elements in Compressed Sparse Row format>"
      ]
     },
     "execution_count": 525,
     "metadata": {},
     "output_type": "execute_result"
    }
   ],
   "source": [
    "test_vectorized"
   ]
  },
  {
   "cell_type": "code",
   "execution_count": 526,
   "metadata": {},
   "outputs": [],
   "source": [
    "test_df=pd.DataFrame(test_vectorized.todense(), index=testData[\"purchase_order_description\"].values, columns=list(vocab_dict.values()))"
   ]
  },
  {
   "cell_type": "code",
   "execution_count": 527,
   "metadata": {},
   "outputs": [
    {
     "data": {
      "text/plain": [
       "(850, 3151)"
      ]
     },
     "execution_count": 527,
     "metadata": {},
     "output_type": "execute_result"
    }
   ],
   "source": [
    "test_df.shape"
   ]
  },
  {
   "cell_type": "code",
   "execution_count": 528,
   "metadata": {},
   "outputs": [],
   "source": [
    "predicted=np.array(model.predict(test_df))"
   ]
  },
  {
   "cell_type": "code",
   "execution_count": 529,
   "metadata": {},
   "outputs": [],
   "source": [
    "test_df[\"predicted\"]=predicted"
   ]
  },
  {
   "cell_type": "code",
   "execution_count": 530,
   "metadata": {},
   "outputs": [
    {
     "data": {
      "text/plain": [
       "SSF Code Review                                Digital Security\n",
       "CASB - NAZ                                     Digital Security\n",
       "Pentest - People MDM                        Application Support\n",
       "Gender Equality Comms                       Application Support\n",
       "PO Extension of GCC Tickets/SRs for GOP     Application Support\n",
       "SOW-MOUTS-2019-008 PMO Service              Application Support\n",
       "CMS Support Azure h2 2019                            Datacenter\n",
       "Azure Microsoft Q1                                   Datacenter\n",
       "2019 IT2 Subscription and Maintenance       Application Support\n",
       "Pentest - OPR Meeting                       Application Support\n",
       "Azure costs for Q1 - 2019 OPEX              Application Support\n",
       "Gain                                        Application Support\n",
       "SHARP - CRQ00CHG0378653 - TSC Improv.       Application Support\n",
       "SR PMDM Accenture                           Application Support\n",
       "Insight Power BI licenses                   Application Support\n",
       "SHARP - CRQ00CHG0378653 - Creat Fixes       Application Support\n",
       "ZX Breach Simulation                        Application Support\n",
       "CRQ00CHG0397013                             Application Support\n",
       "Blocking Failure PO                         Application Support\n",
       "Flavor treatment with NA technology                   Workplace\n",
       "Beedirect Injector                                    Workplace\n",
       "AMBEV                                                 Workplace\n",
       "2018-19 GA360 Contract                      Application Support\n",
       "SHARP - SR - Daylight Saving Time 2019      Application Support\n",
       "Measured_ID Extension                       Application Support\n",
       "CAP_Facility Services 2019                  Application Support\n",
       "Handover Sharepoint                         Application Support\n",
       " Transition PMO for Accenture Sec Ce           Digital Security\n",
       "Gain                                        Application Support\n",
       "CAP_Management Services 2019                Application Support\n",
       "                                                   ...         \n",
       "intralinks 2019 Q1                                   Datacenter\n",
       "Vtex SaaS Platform Payment                  Application Support\n",
       "IT2 project IaaS DB support GHQ                      Datacenter\n",
       "GLS Red                                     Application Support\n",
       "IT2 project IaaS DB support GHQ                      Datacenter\n",
       "Vtex SaaS Platform Payment                  Application Support\n",
       "Kensington Notebook privacy-filter          Application Support\n",
       "CAP_Management Services 2019                Application Support\n",
       "Bulk Champion Upload                        Application Support\n",
       "SHARP - RFC creation in GOY, GON and GOP    Application Support\n",
       "Support Leuven                                        Workplace\n",
       "Taleo                                       Application Support\n",
       "Azure Microsoft Q1                                   Datacenter\n",
       "Azure H1 Costs                                       Datacenter\n",
       "SHARP - CRQ00CHG0429737 - Kernel GO*        Application Support\n",
       "Initial Smartsheet Purchase                 Application Support\n",
       "Premier Support renewall 2019                         Workplace\n",
       "Zaius Renewal 2019-20                          Digital Security\n",
       "SHARP - SR - Restart of BuySell (CBP)       Application Support\n",
       "SME - CRQ00CHG0344844 - SSF Monitor 2020    Application Support\n",
       "CRQ00CHG0439925 Pre study for SOLMAN 7.2    Application Support\n",
       "WhiteHat Renewal                               Digital Security\n",
       "MICS & SOX compliance activity                 Digital Security\n",
       "CRQ00CHG0324229                             Application Support\n",
       "GLS Gold                                       Telecom Services\n",
       "Acc Security Cell Extension 2                  Digital Security\n",
       "HOPPY Hard Coding and Speed 1191            Application Support\n",
       "2018-19 Zaius Global Contract               Application Support\n",
       "Lego Block Support                                   Datacenter\n",
       "SAP GP8 overdue inv 2017 & 2018             Application Support\n",
       "Name: predicted, Length: 850, dtype: object"
      ]
     },
     "execution_count": 530,
     "metadata": {},
     "output_type": "execute_result"
    }
   ],
   "source": [
    "test_df[\"predicted\"]"
   ]
  },
  {
   "cell_type": "code",
   "execution_count": 531,
   "metadata": {},
   "outputs": [],
   "source": [
    "testData.drop(['p_Match', 'sub_p_Match', 'reassign_pack', 'reassign_subpack'], axis=1, inplace=True)"
   ]
  },
  {
   "cell_type": "code",
   "execution_count": 532,
   "metadata": {},
   "outputs": [],
   "source": [
    "testData[\"predicted\"]=predicted"
   ]
  },
  {
   "cell_type": "code",
   "execution_count": 533,
   "metadata": {},
   "outputs": [
    {
     "data": {
      "text/plain": [
       "Application Support     579\n",
       "Workplace                90\n",
       "Digital Security         76\n",
       "Datacenter               74\n",
       "Application Licenses     16\n",
       "Telecom Services         13\n",
       "Mobile Services           2\n",
       "Name: predicted, dtype: int64"
      ]
     },
     "execution_count": 533,
     "metadata": {},
     "output_type": "execute_result"
    }
   ],
   "source": [
    "testData[\"predicted\"].value_counts()"
   ]
  },
  {
   "cell_type": "markdown",
   "metadata": {},
   "source": [
    "[po_key, po_decription, predicted, vendor logic flag]"
   ]
  },
  {
   "cell_type": "code",
   "execution_count": 534,
   "metadata": {},
   "outputs": [],
   "source": [
    "o2o.drop(['p_Match', 'sub_p_Match', 'reassign_pack'], axis=1, inplace=True)"
   ]
  },
  {
   "cell_type": "code",
   "execution_count": 535,
   "metadata": {},
   "outputs": [],
   "source": [
    "o2o.rename({\"reassign_subpack\": \"predicted\"}, axis=1, inplace=True)"
   ]
  },
  {
   "cell_type": "code",
   "execution_count": 536,
   "metadata": {},
   "outputs": [],
   "source": [
    "o2o[\"flag\"]=np.ones(o2o.shape[0])"
   ]
  },
  {
   "cell_type": "code",
   "execution_count": 537,
   "metadata": {},
   "outputs": [],
   "source": [
    "testData[\"flag\"]=np.zeros(testData.shape[0])"
   ]
  },
  {
   "cell_type": "code",
   "execution_count": 538,
   "metadata": {},
   "outputs": [],
   "source": [
    "final_res1=o2o[[ 'po_key', \n",
    "       'purchase_order_description', \n",
    "       'predicted', 'flag']]"
   ]
  },
  {
   "cell_type": "code",
   "execution_count": 539,
   "metadata": {},
   "outputs": [],
   "source": [
    "final_res2=testData[[ 'po_key', \n",
    "       'purchase_order_description', \n",
    "       'predicted', 'flag']]"
   ]
  },
  {
   "cell_type": "code",
   "execution_count": 540,
   "metadata": {},
   "outputs": [],
   "source": [
    "final_res=pd.concat([final_res1, final_res2], axis=0)"
   ]
  },
  {
   "cell_type": "code",
   "execution_count": 541,
   "metadata": {},
   "outputs": [],
   "source": [
    "final_res.reset_index(drop=True, inplace=True)"
   ]
  },
  {
   "cell_type": "code",
   "execution_count": 542,
   "metadata": {},
   "outputs": [
    {
     "data": {
      "text/plain": [
       "(1035, 4)"
      ]
     },
     "execution_count": 542,
     "metadata": {},
     "output_type": "execute_result"
    }
   ],
   "source": [
    "final_res.shape"
   ]
  },
  {
   "cell_type": "code",
   "execution_count": 557,
   "metadata": {},
   "outputs": [],
   "source": [
    "\n",
    "\n",
    "final_res[\"purchase_order_description\"]=final_res[\"purchase_order_description\"].apply(lambda x: punc_reomval(x))\n",
    "final_res[\"purchase_order_description\"]=final_res[\"purchase_order_description\"].apply(lambda x: preprocessing(x))\n",
    "final_res[\"purchase_order_description\"]=final_res[\"purchase_order_description\"].apply(lambda x: appostrophe_replace(x))"
   ]
  },
  
  {
   "cell_type": "markdown",
   "metadata": {},
   "source": [
    "#### 53, 93,114,174,177,"
   ]
  }
 ],
 "metadata": {
  "kernelspec": {
   "display_name": "Python 3",
   "language": "python",
   "name": "python3"
  },
  "language_info": {
   "codemirror_mode": {
    "name": "ipython",
    "version": 3
   },
   "file_extension": ".py",
   "mimetype": "text/x-python",
   "name": "python",
   "nbconvert_exporter": "python",
   "pygments_lexer": "ipython3",
   "version": "3.5.2"
  }
 },
 "nbformat": 4,
 "nbformat_minor": 2
}
