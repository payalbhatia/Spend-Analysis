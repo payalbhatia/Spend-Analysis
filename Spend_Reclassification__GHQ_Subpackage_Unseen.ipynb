{
  "nbformat": 4,
  "nbformat_minor": 0,
  "metadata": {
    "kernelspec": {
      "display_name": "Python 3",
      "language": "python",
      "name": "python3"
    },
    "language_info": {
      "codemirror_mode": {
        "name": "ipython",
        "version": 3
      },
      "file_extension": ".py",
      "mimetype": "text/x-python",
      "name": "python",
      "nbconvert_exporter": "python",
      "pygments_lexer": "ipython3",
      "version": "3.5.2"
    },
    "colab": {
      "name": "Spend_Reclassification _GHQ_Subpackage-- Unseen.ipynb",
      "provenance": []
    }
  },
  "cells": [
    {
      "cell_type": "code",
      "metadata": {
        "id": "3lDT0TEpns0g"
      },
      "source": [
        "import warnings\n",
        "warnings.filterwarnings(\"ignore\")\n",
        "\n",
        "import os\n",
        "import re\n",
        "import numpy as np\n",
        "import pandas as pd\n",
        "import matplotlib.pyplot as plt\n",
        "import seaborn as sns\n",
        "from numpy import mean, std\n",
        "from sklearn.model_selection import KFold\n",
        "import operator\n",
        "import pickle\n",
        "from joblib import dump, load\n",
        "\n",
        "from sklearn.preprocessing import StandardScaler, MinMaxScaler\n",
        "from sklearn.metrics import classification_report, confusion_matrix, accuracy_score, f1_score,precision_score,roc_auc_score,recall_score\n",
        "from sklearn.model_selection import GridSearchCV, train_test_split, cross_val_score\n",
        "from sklearn.feature_extraction.text import CountVectorizer, TfidfVectorizer  \n",
        "from sklearn.feature_selection import SelectFromModel\n",
        "from sklearn.pipeline import Pipeline\n",
        "\n",
        "from sklearn.linear_model import LogisticRegression\n",
        "from sklearn.tree import DecisionTreeClassifier\n",
        "from sklearn.neighbors import KNeighborsClassifier\n",
        "from sklearn.discriminant_analysis import LinearDiscriminantAnalysis\n",
        "from sklearn.naive_bayes import GaussianNB\n",
        "from sklearn.svm import SVC\n",
        "from sklearn.ensemble import AdaBoostClassifier, GradientBoostingClassifier, RandomForestClassifier, ExtraTreesClassifier, VotingClassifier\n",
        "\n",
        "\n",
        "# # import nltk\n",
        "# # from nltk.corpus import stopwords\n",
        "# # from nltk.stem import PorterStemmer\n",
        "# # from textblob import TextBlob, Word\n",
        "# nltk.download('stopwords')\n",
        "# nltk.download('punkt')\n",
        "\n",
        "# stopwords = stopwords.words('english')\n",
        "# # from nltk.stem import WordNetLemmatizer\n",
        "\n",
        "from db_wrapper import db"
      ],
      "execution_count": null,
      "outputs": []
    },
    {
      "cell_type": "code",
      "metadata": {
        "id": "HfrjXGkans0m",
        "outputId": "441a2e4e-108b-42b7-a09a-df78038f7f59"
      },
      "source": [
        "import sys\n",
        "sys.executable"
      ],
      "execution_count": null,
      "outputs": [
        {
          "data": {
            "text/plain": [
              "'c:\\\\program files\\\\python35\\\\python.exe'"
            ]
          },
          "execution_count": 273,
          "metadata": {},
          "output_type": "execute_result"
        }
      ]
    },
    {
      "cell_type": "code",
      "metadata": {
        "id": "P8Yq1lDjns0o"
      },
      "source": [
        "tfidf_vect = load(r\"G:\\Reclassification_Algorithm\\feature.joblib\") # Loading model joblib\n",
        "model=load(r\"G:\\Reclassification_Algorithm\\model.joblib\") # Loading tfidf_vectorizer joblib\n",
        "vocab_dict=load(r\"G:\\Reclassification_Algorithm\\vocab.joblib\")"
      ],
      "execution_count": null,
      "outputs": []
    },
    {
      "cell_type": "code",
      "metadata": {
        "id": "wmSrOBy5ns0p"
      },
      "source": [
        "select_query = \"Select * from xx.zz\"\n",
        "\n",
        "stat,result_set = db.select(select_query)\n",
        "test_data = pd.DataFrame(result_set)"
      ],
      "execution_count": 2,
      "outputs": []
    },
    {
      "cell_type": "code",
      "metadata": {
        "id": "oJNaWlVYns0q"
      },
      "source": [
        "test_data.rename({\"lifnr\":\"vendor id\"}, axis=1, inplace=True)"
      ],
      "execution_count": null,
      "outputs": []
    },
    {
      "cell_type": "code",
      "metadata": {
        "id": "Bw06OAPans0r",
        "outputId": "6afb7d42-84de-4d97-a703-7ff6a1509f79"
      },
      "source": [
        "test_data[\"vendor id\"].unique()"
      ],
      "execution_count": null,
      "outputs": [
        {
          "data": {
            "text/plain": [
              "array(['0000381111', '0000000276', '0000000525', ..., '0008349661',\n",
              "       '0000320931', '0003008976'], dtype=object)"
            ]
          },
          "execution_count": 277,
          "metadata": {},
          "output_type": "execute_result"
        }
      ]
    },
    {
      "cell_type": "code",
      "metadata": {
        "id": "9xxHH9ATns0s",
        "outputId": "c5261895-d37d-4a78-8623-5acbc7809b95"
      },
      "source": [
        "test_data.package.unique()"
      ],
      "execution_count": null,
      "outputs": [
        {
          "data": {
            "text/plain": [
              "array(['Sales','Supply Chain Overhead', 'Taxes',\n",
              "       'Variable compensation'], dtype=object)"
            ]
          },
          "execution_count": 278,
          "metadata": {},
          "output_type": "execute_result"
        }
      ]
    },
    {
      "cell_type": "code",
      "metadata": {
        "id": "0_-CN8z7ns0t"
      },
      "source": [
        "select_query = \"Select * from [xxx].[yyyyy]\"\n",
        "\n",
        "stat,result_set = db.select(select_query)\n",
        "vendor_data = pd.DataFrame(result_set)"
      ],
      "execution_count": 1,
      "outputs": []
    },
    {
      "cell_type": "code",
      "metadata": {
        "id": "5BmmK7Cuns0v",
        "outputId": "0aa6c4b7-1542-44de-d910-da2bd40d0163"
      },
      "source": [
        "vendor_data.columns"
      ],
      "execution_count": null,
      "outputs": [
        {
          "data": {
            "text/plain": [
              "Index(['(INV) CAPEX/OPEX', '(INV) Document Number (InvoiceId)',\n",
              "       '(INV)Company Country (Company Country)',\n",
              "       '(INV)Company Zone (Company Zone)',\n",
              "       '(INV)Contract Id + Line item (Contract Id + Line item)',\n",
              "      dtype='object')"
            ]
          },
          "execution_count": 280,
          "metadata": {},
          "output_type": "execute_result"
        }
      ]
    },
    {
      "cell_type": "code",
      "metadata": {
        "id": "1WhFOq5Xns0x"
      },
      "source": [
        "def add0(x):\n",
        "    try:\n",
        "        if(len(x)!=10):\n",
        "            padding_size=(10-len(x))\n",
        "            x=x.rjust(10, \"0\")\n",
        "            \n",
        "        else:\n",
        "            x\n",
        "    except:\n",
        "        print(\"error in \",x)\n",
        "        \n",
        "    return(float(x))\n",
        "        "
      ],
      "execution_count": null,
      "outputs": []
    },
    {
      "cell_type": "code",
      "metadata": {
        "id": "hFr6tZJ4ns0y"
      },
      "source": [
        "test_data[\"vendor id\"]=test_data[\"vendor id\"].astype(str)\n",
        "test_data[\"vendor id\"]=test_data[\"vendor id\"].apply(lambda x: add0(x))"
      ],
      "execution_count": null,
      "outputs": []
    },
    {
      "cell_type": "code",
      "metadata": {
        "id": "wrW4q2Xcns0z"
      },
      "source": [
        "test_data[\"vendor id\"]=test_data[\"vendor id\"].round(decimals=0).astype(object)"
      ],
      "execution_count": null,
      "outputs": []
    },
    {
      "cell_type": "code",
      "metadata": {
        "id": "KPMJLImhns0z"
      },
      "source": [
        "vendor_data2[\"vendor id\"]=vendor_data2[\"vendor id\"].astype(str)\n",
        "vendor_data2[\"vendor id\"]=vendor_data2[\"vendor id\"].apply(lambda x: add0(x))\n",
        "vendor_data2[\"vendor id\"]=vendor_data2[\"vendor id\"].round(decimals=0).astype(object)"
      ],
      "execution_count": null,
      "outputs": []
    },
    {
      "cell_type": "code",
      "metadata": {
        "id": "C1AfDN6Jns0z",
        "outputId": "94b9f3ec-6cde-43cc-c8fa-c9d514ec3578"
      },
      "source": [
        "test_data[\"vendor id\"][:3]\n"
      ],
      "execution_count": null,
      "outputs": [
        {
          "data": {
            "text/plain": [
              "0    381111\n",
              "1       276\n",
              "2       525\n",
              "Name: vendor id, dtype: object"
            ]
          },
          "execution_count": 287,
          "metadata": {},
          "output_type": "execute_result"
        }
      ]
    },
    {
      "cell_type": "code",
      "metadata": {
        "id": "1pcM407Rns00",
        "outputId": "f60cc313-0c43-4930-e2c1-6a098ef6326d"
      },
      "source": [
        "vendor_data2[\"vendor id\"][:3]"
      ],
      "execution_count": null,
      "outputs": [
        {
          "data": {
            "text/plain": [
              "0    346426\n",
              "1    383062\n",
              "2    382548\n",
              "Name: vendor id, dtype: object"
            ]
          },
          "execution_count": 288,
          "metadata": {},
          "output_type": "execute_result"
        }
      ]
    },
    {
      "cell_type": "code",
      "metadata": {
        "id": "gZIhq0hxns00"
      },
      "source": [
        "def punc_reomval(x):\n",
        "    \n",
        "    punctuations = '''!()-[]{};:'\"\\,<>./?@#$%^&*_~'''\n",
        "    no_punct = \"\"\n",
        "    for char in x:\n",
        "        if char not in punctuations:\n",
        "            no_punct = no_punct + char\n",
        "    return no_punct"
      ],
      "execution_count": null,
      "outputs": []
    },
    {
      "cell_type": "code",
      "metadata": {
        "id": "DjnOgctRns00"
      },
      "source": [
        "def preprocessing(x):\n",
        "  \n",
        "    x = re.sub(r'\\W', ' ', str(x))\n",
        "    x = re.sub(r'\\s+[a-zA-Z]\\s+', ' ', x)\n",
        "    x = re.sub(r'\\^[a-zA-Z]\\s+', ' ', x) \n",
        "    x = re.sub(r'\\s+', ' ', x, flags=re.I)\n",
        "    return x"
      ],
      "execution_count": null,
      "outputs": []
    },
    {
      "cell_type": "code",
      "metadata": {
        "id": "Bc_I4BMtns01"
      },
      "source": [
        "def appostrophe_replace(x):\n",
        "    return(x.replace(\"'\", \" \").replace('\"', \" \"))"
      ],
      "execution_count": null,
      "outputs": []
    },
    {
      "cell_type": "code",
      "metadata": {
        "id": "aaRtyLLSns01"
      },
      "source": [
        "test_data[\"purchase_order_description\"]=test_data[\"purchase_order_description\"].apply(lambda x: punc_reomval(x))\n",
        "test_data[\"purchase_order_description\"]=test_data[\"purchase_order_description\"].apply(lambda x: preprocessing(x))\n",
        "test_data[\"purchase_order_description\"]=test_data[\"purchase_order_description\"].apply(lambda x: appostrophe_replace(x))"
      ],
      "execution_count": null,
      "outputs": []
    },
    {
      "cell_type": "code",
      "metadata": {
        "id": "zxbzbftGns02"
      },
      "source": [
        "# test_data[test_data[\"purchase_order_description\"].str.contains(\"MXP\")]"
      ],
      "execution_count": null,
      "outputs": []
    },
    {
      "cell_type": "code",
      "metadata": {
        "id": "YOTnwVNkns02"
      },
      "source": [
        "import ven_map\n",
        "from ven_map import O2O, result"
      ],
      "execution_count": null,
      "outputs": []
    },
    {
      "cell_type": "code",
      "metadata": {
        "id": "m1BQUzwkns03"
      },
      "source": [
        "# data=pd.read_excel(r'G:\\Users\\C888653\\Reclassification_Algorithm\\ghq_data_with Vendor id.xlsx')"
      ],
      "execution_count": null,
      "outputs": []
    },
    {
      "cell_type": "code",
      "metadata": {
        "id": "JHRck0rfns03"
      },
      "source": [
        "# test_data[test_data[\"package\"]==\"Technology\"][\"vendor id\"].unique()"
      ],
      "execution_count": null,
      "outputs": []
    },
    {
      "cell_type": "code",
      "metadata": {
        "id": "WH0a0wZHns03"
      },
      "source": [
        "# vendor_data2[\"vendor id\"].unique()"
      ],
      "execution_count": null,
      "outputs": []
    },
    {
      "cell_type": "code",
      "metadata": {
        "id": "7QjAO8QUns03"
      },
      "source": [
        "# tech=test_data[test_data.package==\"Technology\"]"
      ],
      "execution_count": null,
      "outputs": []
    },
    {
      "cell_type": "code",
      "metadata": {
        "id": "JZsZCZqbns04"
      },
      "source": [
        "# tech=test_data[test_data.package==\"Technology\"]"
      ],
      "execution_count": null,
      "outputs": []
    },
    {
      "cell_type": "code",
      "metadata": {
        "id": "L-uAw_g2ns04"
      },
      "source": [
        "# tech[\"vendor id\"]=tech[\"vendor id\"].astype(str)\n",
        "# tech[\"vendor id\"]=tech[\"vendor id\"].apply(lambda x: add0(x))\n",
        "# tech[\"vendor id\"]=tech[\"vendor id\"].round(decimals=0).astype(object)"
      ],
      "execution_count": null,
      "outputs": []
    },
    {
      "cell_type": "code",
      "metadata": {
        "id": "fOoiZttHns04"
      },
      "source": [
        "# tech[\"vendor id\"].unique()"
      ],
      "execution_count": null,
      "outputs": []
    },
    {
      "cell_type": "code",
      "metadata": {
        "id": "S993yXW5ns04"
      },
      "source": [
        "oTo_o=O2O(test_data)"
      ],
      "execution_count": null,
      "outputs": []
    },
    {
      "cell_type": "code",
      "metadata": {
        "id": "4Z2lgGSpns05",
        "outputId": "264b62dc-3ce2-4495-e579-fa9b16861cca"
      },
      "source": [
        "oTo_o.count_pack_venid()[:3]"
      ],
      "execution_count": null,
      "outputs": [
        {
          "data": {
            "text/plain": [
              "vendor id\n",
              "1.0    1\n",
              "Name: package, dtype: int64"
            ]
          },
          "execution_count": 501,
          "metadata": {},
          "output_type": "execute_result"
        }
      ]
    },
    {
      "cell_type": "code",
      "metadata": {
        "id": "ZKG4o0SNns05",
        "outputId": "ea27713b-80e5-4714-d600-8688e0794ca3"
      },
      "source": [
        "oTo_o.count_subp_venid()[:3]"
      ],
      "execution_count": null,
      "outputs": [
        {
          "data": {
            "text/plain": [
              "vendor id\n",
              "1.0    1\n",
              "Name: subpackage, dtype: int64"
            ]
          },
          "execution_count": 502,
          "metadata": {},
          "output_type": "execute_result"
        }
      ]
    },
    {
      "cell_type": "code",
      "metadata": {
        "id": "eNonJ8PFns06",
        "outputId": "bfa48233-e268-49e6-a495-d94ccd5f4c13"
      },
      "source": [
        "oTo_o.uniq_p"
      ],
      "execution_count": null,
      "outputs": [
        {
          "data": {
            "text/plain": [
              "array(['Sales', 'Supply Chain Overhead', 'Taxes',\n",
              "       'Variable compensation'], dtype=object)"
            ]
          },
          "execution_count": 503,
          "metadata": {},
          "output_type": "execute_result"
        }
      ]
    },
    {
      "cell_type": "code",
      "metadata": {
        "id": "b3t9aqkmns06",
        "outputId": "c19861c5-00ab-4b11-c810-e15c045314df"
      },
      "source": [
        "oTo_o.uniq_subp"
      ],
      "execution_count": null,
      "outputs": [
        {
          "data": {
            "text/plain": [
              "array(['Commercial Agreement - Distributors', None, 'Other',\n",
              "       'International Mobility', 'Temps Non-Payroll',\n",
              "       'Lease of Real Estate', 'Cleaning and Gardening',\n",
              "      dtype=object)"
            ]
          },
          "execution_count": 504,
          "metadata": {},
          "output_type": "execute_result"
        }
      ]
    },
    {
      "cell_type": "code",
      "metadata": {
        "id": "CMWboGTEns09",
        "outputId": "e748b894-0cee-45e6-f6b3-fc7fbfe6c4f7"
      },
      "source": [
        "len(oTo_o.uniq_venid)"
      ],
      "execution_count": null,
      "outputs": [
        {
          "data": {
            "text/plain": [
              "1901"
            ]
          },
          "execution_count": 505,
          "metadata": {},
          "output_type": "execute_result"
        }
      ]
    },
    {
      "cell_type": "code",
      "metadata": {
        "id": "gawNPxCqns0-"
      },
      "source": [
        "r=result(vendor_data2,tech)\n",
        "df=r.result_O2O() "
      ],
      "execution_count": null,
      "outputs": []
    },
    {
      "cell_type": "code",
      "metadata": {
        "id": "5WG0u0ABns0-",
        "outputId": "12deafd5-ec1b-4ac0-d75d-ae3f44f81306"
      },
      "source": [
        "df[\"reassign_pack\"].value_counts()"
      ],
      "execution_count": null,
      "outputs": [
        {
          "data": {
            "text/plain": [
              "Unassigned    721\n",
              "Technology    301\n",
              "Name: reassign_pack, dtype: int64"
            ]
          },
          "execution_count": 507,
          "metadata": {},
          "output_type": "execute_result"
        }
      ]
    },
    {
      "cell_type": "code",
      "metadata": {
        "id": "zLX3Kqxyns0-",
        "outputId": "9f4ab187-7d9c-43c5-a08a-44658678c911"
      },
      "source": [
        "df[\"reassign_subpack\"].value_counts()"
      ],
      "execution_count": null,
      "outputs": [
        {
          "data": {
            "text/plain": [
              "Unassigned              837\n",
              "Applications Support     63\n",
              "Application Licenses     35\n",
              "Security                 34\n",
              "Workplace                34\n",
              "Telecom Services         19\n",
              "Name: reassign_subpack, dtype: int64"
            ]
          },
          "execution_count": 508,
          "metadata": {},
          "output_type": "execute_result"
        }
      ]
    },
    {
      "cell_type": "code",
      "metadata": {
        "id": "rXz-FXdnns0-",
        "outputId": "be9bc2cc-b515-4feb-9803-d39d74792358"
      },
      "source": [
        "df.shape"
      ],
      "execution_count": null,
      "outputs": [
        {
          "data": {
            "text/plain": [
              "(1035, 18)"
            ]
          },
          "execution_count": 509,
          "metadata": {},
          "output_type": "execute_result"
        }
      ]
    },
    {
      "cell_type": "code",
      "metadata": {
        "id": "xTq1FvNpns0_"
      },
      "source": [
        "o2o=df[~((df[\"reassign_pack\"]==\"Unassigned\" )  | (df[\"reassign_subpack\"]==\"Unassigned\" ))]"
      ],
      "execution_count": null,
      "outputs": []
    },
    {
      "cell_type": "code",
      "metadata": {
        "id": "ZMw_b3NYns0_",
        "outputId": "f3108e9b-e605-4730-ac5b-a580fbb6207d"
      },
      "source": [
        "o2o.shape"
      ],
      "execution_count": null,
      "outputs": [
        {
          "data": {
            "text/plain": [
              "(185, 18)"
            ]
          },
          "execution_count": 511,
          "metadata": {},
          "output_type": "execute_result"
        }
      ]
    },
    {
      "cell_type": "code",
      "metadata": {
        "id": "HYpqHIWLns0_",
        "outputId": "d406eff7-7e6f-4788-826e-60afb9fd0dc1"
      },
      "source": [
        "o2o[\"reassign_pack\"].value_counts()"
      ],
      "execution_count": null,
      "outputs": [
        {
          "data": {
            "text/plain": [
              "Technology    185\n",
              "Name: reassign_pack, dtype: int64"
            ]
          },
          "execution_count": 512,
          "metadata": {},
          "output_type": "execute_result"
        }
      ]
    },
    {
      "cell_type": "code",
      "metadata": {
        "id": "yh2E3RZEns0_"
      },
      "source": [
        "o2m=df[((df[\"reassign_subpack\"]==\"Unassigned\" ) | (df[\"reassign_pack\"]==\"Unassigned\" ) )]"
      ],
      "execution_count": null,
      "outputs": []
    },
    {
      "cell_type": "code",
      "metadata": {
        "id": "fWWpJsftns0_",
        "outputId": "7fb70ef0-8a10-4344-8603-eac6deed8fe0"
      },
      "source": [
        "o2m.shape[0]+o2o.shape[0]"
      ],
      "execution_count": null,
      "outputs": [
        {
          "data": {
            "text/plain": [
              "1035"
            ]
          },
          "execution_count": 514,
          "metadata": {},
          "output_type": "execute_result"
        }
      ]
    },
    {
      "cell_type": "code",
      "metadata": {
        "id": "_v6MKU2Mns1A"
      },
      "source": [
        "ip_data = pd.read_excel(r'G:\\Users\\Reclassification_Algorithm\\Trainning dataset.xlsx')"
      ],
      "execution_count": null,
      "outputs": []
    },
    {
      "cell_type": "code",
      "metadata": {
        "id": "6J3KnpPjns1A"
      },
      "source": [
        "testData=o2m[~o2m[\"po_key\"].isin(ip_data[\"po_key\"])]"
      ],
      "execution_count": null,
      "outputs": []
    },
    {
      "cell_type": "code",
      "metadata": {
        "id": "y8t8DOIvns1A",
        "outputId": "4e308cd7-3eb5-4689-b8ec-ec2ecbff36b7"
      },
      "source": [
        "testData.shape"
      ],
      "execution_count": null,
      "outputs": [
        {
          "data": {
            "text/plain": [
              "(850, 18)"
            ]
          },
          "execution_count": 517,
          "metadata": {},
          "output_type": "execute_result"
        }
      ]
    },
    {
      "cell_type": "code",
      "metadata": {
        "id": "4Xtn5ws0ns1A",
        "outputId": "883bfda5-7d5f-4cae-e4b9-a24ff6c0fb01"
      },
      "source": [
        "testData.isna().sum()"
      ],
      "execution_count": null,
      "outputs": [
        {
          "data": {
            "text/plain": [
              "company_code                                0\n",
              "description                                29\n",
              "gl_code                                     0\n",
              "gl_code_desc                                0\n",
              "gpo categories                             29\n",
              "vendor id                                   0\n",
              "material_group_description                  0\n",
              "package                                     0\n",
              "po_key                                      0\n",
              "po_total_amount_ordered_in_usd_currency     2\n",
              "purchase_order_description                  0\n",
              "sakto                                       0\n",
              "subpackage                                  0\n",
              "vendor_name                                 0\n",
              "p_Match                                     0\n",
              "sub_p_Match                                 0\n",
              "reassign_pack                               0\n",
              "reassign_subpack                            0\n",
              "dtype: int64"
            ]
          },
          "execution_count": 518,
          "metadata": {},
          "output_type": "execute_result"
        }
      ]
    },
    {
      "cell_type": "code",
      "metadata": {
        "id": "X5oco55Kns1A"
      },
      "source": [
        "# string=\"MXP Aug'19\"\n",
        "# string.replace(\"'\", ' ')"
      ],
      "execution_count": null,
      "outputs": []
    },
    {
      "cell_type": "code",
      "metadata": {
        "id": "suCyb2Fpns1B"
      },
      "source": [
        "from scipy.sparse import csr_matrix, hstack\n",
        "def add_feature(X, feature_to_add):\n",
        "    return hstack([X, csr_matrix(feature_to_add).T], 'csr')"
      ],
      "execution_count": null,
      "outputs": []
    },
    {
      "cell_type": "code",
      "metadata": {
        "id": "RFThJsSFns1B"
      },
      "source": [
        "# testData[\"purchase_order_description\"]=testData[\"purchase_order_description\"].apply(lambda x: punc_reomval(x))\n",
        "# testData[\"purchase_order_description\"]=testData[\"purchase_order_description\"].apply(lambda x: preprocessing(x))\n",
        "# testData[\"purchase_order_description\"]=testData[\"purchase_order_description\"].apply(lambda x: appostrophe_replace(x))"
      ],
      "execution_count": null,
      "outputs": []
    },
    {
      "cell_type": "code",
      "metadata": {
        "id": "IrXhuQSSns1B"
      },
      "source": [
        "un_tf_idf_vect=tfidf_vect.transform(testData[\"purchase_order_description\"].values)"
      ],
      "execution_count": null,
      "outputs": []
    },
    {
      "cell_type": "code",
      "metadata": {
        "id": "Xtw7Pey8ns1B",
        "outputId": "b837c0be-d31f-4872-df1d-313237709d94"
      },
      "source": [
        "un_tf_idf_vect"
      ],
      "execution_count": null,
      "outputs": [
        {
          "data": {
            "text/plain": [
              "<850x3150 sparse matrix of type '<class 'numpy.float64'>'\n",
              "\twith 4303 stored elements in Compressed Sparse Row format>"
            ]
          },
          "execution_count": 523,
          "metadata": {},
          "output_type": "execute_result"
        }
      ]
    },
    {
      "cell_type": "code",
      "metadata": {
        "id": "Sf0UUdN_ns1B"
      },
      "source": [
        "test_vectorized = add_feature(un_tf_idf_vect, pd.Series(testData[\"purchase_order_description\"].values).str.len())"
      ],
      "execution_count": null,
      "outputs": []
    },
    {
      "cell_type": "code",
      "metadata": {
        "id": "AIMLlFeIns1C",
        "outputId": "41a543e8-4c2c-444b-e855-73bb31692d04"
      },
      "source": [
        "test_vectorized"
      ],
      "execution_count": null,
      "outputs": [
        {
          "data": {
            "text/plain": [
              "<850x3151 sparse matrix of type '<class 'numpy.float64'>'\n",
              "\twith 5153 stored elements in Compressed Sparse Row format>"
            ]
          },
          "execution_count": 525,
          "metadata": {},
          "output_type": "execute_result"
        }
      ]
    },
    {
      "cell_type": "code",
      "metadata": {
        "id": "_VjBzBYwns1C"
      },
      "source": [
        "test_df=pd.DataFrame(test_vectorized.todense(), index=testData[\"purchase_order_description\"].values, columns=list(vocab_dict.values()))"
      ],
      "execution_count": null,
      "outputs": []
    },
    {
      "cell_type": "code",
      "metadata": {
        "id": "lOxSN2ycns1C",
        "outputId": "fd945494-3754-46b8-8478-b4769dc6437c"
      },
      "source": [
        "test_df.shape"
      ],
      "execution_count": null,
      "outputs": [
        {
          "data": {
            "text/plain": [
              "(850, 3151)"
            ]
          },
          "execution_count": 527,
          "metadata": {},
          "output_type": "execute_result"
        }
      ]
    },
    {
      "cell_type": "code",
      "metadata": {
        "id": "rs-LqQQrns1C"
      },
      "source": [
        "predicted=np.array(model.predict(test_df))"
      ],
      "execution_count": null,
      "outputs": []
    },
    {
      "cell_type": "code",
      "metadata": {
        "id": "PPNYY8WYns1C"
      },
      "source": [
        "test_df[\"predicted\"]=predicted"
      ],
      "execution_count": null,
      "outputs": []
    },
    {
      "cell_type": "code",
      "metadata": {
        "id": "6sIpYEX9ns1D",
        "outputId": "d757f6e2-85a1-4a51-d4a6-d8c15502bfce"
      },
      "source": [
        "test_df[\"predicted\"]"
      ],
      "execution_count": null,
      "outputs": [
        {
          "data": {
            "text/plain": [
              "SSF Code Review                                Digital Security\n",
              "CASB - NAZ                                     Digital Security\n",
              "Pentest - People MDM                        Application Support\n",
              "Gender Equality Comms                       Application Support\n",
              "PO Extension of GCC Tickets/SRs for GOP     Application Support\n",
              "SOW-MOUTS-2019-008 PMO Service              Application Support\n",
              "CMS Support Azure h2 2019                            Datacenter\n",
              "Azure Microsoft Q1                                   Datacenter\n",
              "2019 IT2 Subscription and Maintenance       Application Support\n",
              "Pentest - OPR Meeting                       Application Support\n",
              "intralinks 2019 Q1                                   Datacenter\n",
              "Vtex SaaS Platform Payment                  Application Support\n",
              "IT2 project IaaS DB support GHQ                      Datacenter\n",
              "GLS Red                                     Application Support\n",
              "IT2 project IaaS DB support GHQ                      Datacenter\n",
              "Vtex SaaS Platform Payment                  Application Support\n",
              "Kensington Notebook privacy-filter          Application Support\n",
              "CAP_Management Services 2019                Application Support\n",
              "Bulk Champion Upload                        Application Support\n",
              "SHARP - RFC creation in GOY, GON and GOP    Application Support\n",
              "Support Leuven                                        Workplace\n",
              "Taleo                                       Application Support\n",
              "Azure Microsoft Q1                                   Datacenter\n",
              "Azure H1 Costs                                       Datacenter\n",
              "SHARP - XXQ00CPP0429737 - Kernel GO*        Application Support\n",
              "Initial Smartsheet Purchase                 Application Support\n",
              "Premier Support renewall 2019                         Workplace\n",
              "Zaius Renewal 2019-20                          Digital Security\n",
              "WhiteHat Renewal                               Digital Security\n",
              "MICS & SOX compliance activity                 Digital Security\n",
              "CRQ00CHG0324229                             Application Support\n",
              "GLS Gold                                       Telecom Services\n",
              "Acc Security Cell Extension 2                  Digital Security\n",
              "HOPPY Hard Coding and Speed 1191            Application Support\n",
              "2018-19 Zaius Global Contract               Application Support\n",
              "Lego Block Support                                   Datacenter\n",
              "SAP GP8 overdue inv 2017 & 2018             Application Support\n",
              "Name: predicted, Length: 850, dtype: object"
            ]
          },
          "execution_count": 530,
          "metadata": {},
          "output_type": "execute_result"
        }
      ]
    },
    {
      "cell_type": "code",
      "metadata": {
        "id": "yHr6tDQLns1D"
      },
      "source": [
        "testData.drop(['p_Match', 'sub_p_Match', 'reassign_pack', 'reassign_subpack'], axis=1, inplace=True)"
      ],
      "execution_count": null,
      "outputs": []
    },
    {
      "cell_type": "code",
      "metadata": {
        "id": "tZNyzzmPns1D"
      },
      "source": [
        "testData[\"predicted\"]=predicted"
      ],
      "execution_count": null,
      "outputs": []
    },
    {
      "cell_type": "code",
      "metadata": {
        "id": "X66uk_T6ns1D",
        "outputId": "5f3206d3-78c7-429b-aba6-726a396e3d75"
      },
      "source": [
        "testData[\"predicted\"].value_counts()"
      ],
      "execution_count": null,
      "outputs": [
        {
          "data": {
            "text/plain": [
              "Application Support     579\n",
              "Workplace                90\n",
              "Digital Security         76\n",
              "Datacenter               74\n",
              "Application Licenses     16\n",
              "Telecom Services         13\n",
              "Mobile Services           2\n",
              "Name: predicted, dtype: int64"
            ]
          },
          "execution_count": 533,
          "metadata": {},
          "output_type": "execute_result"
        }
      ]
    },
    {
      "cell_type": "markdown",
      "metadata": {
        "id": "hVoxADk3ns1D"
      },
      "source": [
        "[po_key, po_decription, predicted, vendor logic flag]"
      ]
    },
    {
      "cell_type": "code",
      "metadata": {
        "id": "AKKRCAiXns1F"
      },
      "source": [
        "o2o.drop(['p_Match', 'sub_p_Match', 'reassign_pack'], axis=1, inplace=True)"
      ],
      "execution_count": null,
      "outputs": []
    },
    {
      "cell_type": "code",
      "metadata": {
        "id": "6i0vZ-HIns1F"
      },
      "source": [
        "o2o.rename({\"reassign_subpack\": \"predicted\"}, axis=1, inplace=True)"
      ],
      "execution_count": null,
      "outputs": []
    },
    {
      "cell_type": "code",
      "metadata": {
        "id": "tkRt-Aosns1F"
      },
      "source": [
        "o2o[\"flag\"]=np.ones(o2o.shape[0])"
      ],
      "execution_count": null,
      "outputs": []
    },
    {
      "cell_type": "code",
      "metadata": {
        "id": "qPTg95B_ns1F"
      },
      "source": [
        "testData[\"flag\"]=np.zeros(testData.shape[0])"
      ],
      "execution_count": null,
      "outputs": []
    },
    {
      "cell_type": "code",
      "metadata": {
        "id": "9-CuLpbTns1F"
      },
      "source": [
        "final_res1=o2o[[ 'po_key', \n",
        "       'purchase_order_description', \n",
        "       'predicted', 'flag']]"
      ],
      "execution_count": null,
      "outputs": []
    },
    {
      "cell_type": "code",
      "metadata": {
        "id": "hpk2BMLgns1F"
      },
      "source": [
        "final_res2=testData[[ 'po_key', \n",
        "       'purchase_order_description', \n",
        "       'predicted', 'flag']]"
      ],
      "execution_count": null,
      "outputs": []
    },
    {
      "cell_type": "code",
      "metadata": {
        "id": "ruayfKAXns1G"
      },
      "source": [
        "final_res=pd.concat([final_res1, final_res2], axis=0)"
      ],
      "execution_count": null,
      "outputs": []
    },
    {
      "cell_type": "code",
      "metadata": {
        "id": "SHnNR93Bns1G"
      },
      "source": [
        "final_res.reset_index(drop=True, inplace=True)"
      ],
      "execution_count": null,
      "outputs": []
    },
    {
      "cell_type": "code",
      "metadata": {
        "id": "fgbwB7Cens1G",
        "outputId": "c1ae8c2a-e3ca-4df4-edc6-3371f792a1ea"
      },
      "source": [
        "final_res.shape"
      ],
      "execution_count": null,
      "outputs": [
        {
          "data": {
            "text/plain": [
              "(1035, 4)"
            ]
          },
          "execution_count": 542,
          "metadata": {},
          "output_type": "execute_result"
        }
      ]
    },
    {
      "cell_type": "code",
      "metadata": {
        "id": "8h2PFFnDns1G"
      },
      "source": [
        "\n",
        "\n",
        "final_res[\"purchase_order_description\"]=final_res[\"purchase_order_description\"].apply(lambda x: punc_reomval(x))\n",
        "final_res[\"purchase_order_description\"]=final_res[\"purchase_order_description\"].apply(lambda x: preprocessing(x))\n",
        "final_res[\"purchase_order_description\"]=final_res[\"purchase_order_description\"].apply(lambda x: appostrophe_replace(x))"
      ],
      "execution_count": null,
      "outputs": []
    }
  ]
}
